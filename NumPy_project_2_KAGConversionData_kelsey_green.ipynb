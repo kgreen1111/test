{
  "nbformat": 4,
  "nbformat_minor": 0,
  "metadata": {
    "colab": {
      "name": "NumPy project #2: using KAGConversionData.csv final draft",
      "provenance": [],
      "authorship_tag": "ABX9TyOk+x67u6eVtfcDjKsXC4rN",
      "include_colab_link": true
    },
    "kernelspec": {
      "name": "python3",
      "display_name": "Python 3"
    },
    "language_info": {
      "name": "python"
    }
  },
  "cells": [
    {
      "cell_type": "markdown",
      "metadata": {
        "id": "view-in-github",
        "colab_type": "text"
      },
      "source": [
        "<a href=\"https://colab.research.google.com/github/kgreen1111/test/blob/main/NumPy_project_2_KAGConversionData_kelsey_green.ipynb\" target=\"_parent\"><img src=\"https://colab.research.google.com/assets/colab-badge.svg\" alt=\"Open In Colab\"/></a>"
      ]
    },
    {
      "cell_type": "code",
      "execution_count": 1,
      "metadata": {
        "colab": {
          "base_uri": "https://localhost:8080/"
        },
        "id": "LHx31Yeh9suE",
        "outputId": "5c026b15-7844-477f-cbc1-ed233d21ff29"
      },
      "outputs": [
        {
          "output_type": "stream",
          "name": "stdout",
          "text": [
            "\n",
            "Data: \n",
            "\n",
            " [[7.08746000e+05 9.16000000e+02 1.03916000e+05 ... 1.42999995e+00\n",
            "  2.00000000e+00 1.00000000e+00]\n",
            " [7.08749000e+05 9.16000000e+02 1.03917000e+05 ... 1.82000002e+00\n",
            "  2.00000000e+00 0.00000000e+00]\n",
            " [7.08771000e+05 9.16000000e+02 1.03920000e+05 ... 0.00000000e+00\n",
            "  1.00000000e+00 0.00000000e+00]\n",
            " ...\n",
            " [1.31441200e+06 1.17800000e+03 1.79979000e+05 ... 4.02899995e+01\n",
            "  2.00000000e+00 0.00000000e+00]\n",
            " [1.31441400e+06 1.17800000e+03 1.79981000e+05 ... 1.98710001e+02\n",
            "  8.00000000e+00 2.00000000e+00]\n",
            " [1.31441500e+06 1.17800000e+03 1.79982000e+05 ... 1.65609999e+02\n",
            "  5.00000000e+00 2.00000000e+00]]\n"
          ]
        }
      ],
      "source": [
        "import numpy as np\n",
        "data_file_float = np.genfromtxt('/content/KAG_Conversion_Data.csv', delimiter=',', skip_header=1)\n",
        "data_file_int = np.genfromtxt('/content/KAG_Conversion_Data.csv', dtype='int64', delimiter=',', skip_header=1)\n",
        "data_file_str = np.genfromtxt('/content/KAG_Conversion_Data.csv', dtype='str', delimiter= ',', skip_header=1)\n",
        "print(\"\\nData: \\n\\n\", data_file_float)"
      ]
    },
    {
      "cell_type": "code",
      "source": [
        "from numpy.lib.arraysetops import unique\n",
        "xyz_campaign_id = data_file_int[:,1]\n",
        "unique_campains = np.unique(xyz_campaign_id)\n",
        "\n",
        "print(\"There are three unique ad campaigns: \",unique_campains)\n",
        "\n",
        "print(\"\")\n",
        "\n",
        "for i in unique_campains:\n",
        "  count = np.count_nonzero(xyz_campaign_id == i)\n",
        "  print(f'Campain {i} ran {count} times.')"
      ],
      "metadata": {
        "colab": {
          "base_uri": "https://localhost:8080/"
        },
        "id": "WEMRRFzT-B-d",
        "outputId": "4ff4b783-11a3-4268-bdd0-c3f598e09723"
      },
      "execution_count": 2,
      "outputs": [
        {
          "output_type": "stream",
          "name": "stdout",
          "text": [
            "There are three unique ad campaigns:  [ 916  936 1178]\n",
            "\n",
            "Campain 916 ran 54 times.\n",
            "Campain 936 ran 464 times.\n",
            "Campain 1178 ran 625 times.\n"
          ]
        }
      ]
    },
    {
      "cell_type": "code",
      "source": [
        "age = data_file_str[:,3]\n",
        "age_groups = np.unique(age)\n",
        "\n",
        "print(\"The age groups that were targeted are: \")\n",
        "for i in age_groups:\n",
        "  print(i, end=\", \")"
      ],
      "metadata": {
        "colab": {
          "base_uri": "https://localhost:8080/"
        },
        "id": "CAA-g88I-Eg3",
        "outputId": "046cd8fa-018e-444b-c3e4-98b5aa1577d0"
      },
      "execution_count": 3,
      "outputs": [
        {
          "output_type": "stream",
          "name": "stdout",
          "text": [
            "The age groups that were targeted are: \n",
            "30-34, 35-39, 40-44, 45-49, "
          ]
        }
      ]
    },
    {
      "cell_type": "code",
      "source": [
        "mean_ad_cost = np.mean(data_file_float[:,8])\n",
        "min_ad_cost = np.min(data_file_float[:,8])\n",
        "max_ad_cost = np.max(data_file_float[:,8])\n",
        "\n",
        "print(\"Ad Expense Data:\")\n",
        "print(\"\")\n",
        "print(f\"   Averge spent: {mean_ad_cost}\")\n",
        "print(f\"   Minimum spent: {min_ad_cost}\")\n",
        "print(f\"   Maximum spent: {max_ad_cost}\")"
      ],
      "metadata": {
        "colab": {
          "base_uri": "https://localhost:8080/"
        },
        "id": "euxPlFAI-G91",
        "outputId": "dcfb42c1-24d5-4cc7-ba37-14f1cef59823"
      },
      "execution_count": 4,
      "outputs": [
        {
          "output_type": "stream",
          "name": "stdout",
          "text": [
            "Ad Expense Data:\n",
            "\n",
            "   Averge spent: 51.36065613141295\n",
            "   Minimum spent: 0.0\n",
            "   Maximum spent: 639.9499981\n"
          ]
        }
      ]
    },
    {
      "cell_type": "code",
      "source": [
        "max_click_count = np.max(data_file_int[:,7])\n",
        "x = np.where((data_file_int[:,7]) == max_click_count)\n",
        "max_clicks_id = int(data_file_int[x,0])\n",
        "print(f\"Campain {max_clicks_id} had the maximum number of clicks, reaching a total of {max_click_count} clicks.\")"
      ],
      "metadata": {
        "colab": {
          "base_uri": "https://localhost:8080/"
        },
        "id": "PVtCUE7T-h58",
        "outputId": "d0a79bc8-6890-46b1-dbe2-751e15ef81c0"
      },
      "execution_count": 5,
      "outputs": [
        {
          "output_type": "stream",
          "name": "stdout",
          "text": [
            "Campain 1121814 had the maximum number of clicks, reaching a total of 421 clicks.\n"
          ]
        }
      ]
    },
    {
      "cell_type": "code",
      "source": [
        "approved_conversion = int(data_file_int[x,-1])\n",
        "max_app_conversion = np.max(data_file_int[:,-1])\n",
        "\n",
        "print(f\"{approved_conversion} people bought the product after seeing the ad with the most clicks.\")\n",
        "print(f\"The maximum number of purchases in this dataset is {max_app_conversion}, which is higher than Campaign {max_clicks_id}'s total of {approved_conversion} approved conversions.\")\n",
        "print(f\"This shows that {approved_conversion} is not the maximum number of purchases in this dataset.\")"
      ],
      "metadata": {
        "colab": {
          "base_uri": "https://localhost:8080/"
        },
        "id": "NuY7nfeh-saI",
        "outputId": "19f4fa82-34bb-4279-deba-31fd31f09805"
      },
      "execution_count": 6,
      "outputs": [
        {
          "output_type": "stream",
          "name": "stdout",
          "text": [
            "13 people bought the product after seeing the ad with the most clicks.\n",
            "The maximum number of purchases in this dataset is 21, which is higher than Campaign 1121814's total of 13 approved conversions.\n",
            "This shows that 13 is not the maximum number of purchases in this dataset.\n"
          ]
        }
      ]
    },
    {
      "cell_type": "code",
      "source": [
        "c = np.where((data_file_int[:,-1])== max_app_conversion)\n",
        "details = np.array(data_file_str[c,:])\n",
        "details_clicks = int(data_file_int[c,7])\n",
        "\n",
        "print(f\"Maximum # of purchases = {max_app_conversion} Approved Conversions\")\n",
        "print(\"\")\n",
        "print(f\"Details of the ad with max # of purchases are: {details}\")"
      ],
      "metadata": {
        "colab": {
          "base_uri": "https://localhost:8080/"
        },
        "id": "bn6JneawAefK",
        "outputId": "686dd0fc-5b15-4e79-d96b-00adfc7a305d"
      },
      "execution_count": 7,
      "outputs": [
        {
          "output_type": "stream",
          "name": "stdout",
          "text": [
            "Maximum # of purchases = 21 Approved Conversions\n",
            "\n",
            "Details of the ad with max # of purchases are: [[['1121104' '1178' '144533' '30-34' 'M' '16' '2080666' '202'\n",
            "   '360.1500015' '40' '21']]]\n"
          ]
        }
      ]
    },
    {
      "cell_type": "code",
      "source": [
        ""
      ],
      "metadata": {
        "id": "KopG1X5TBuV_"
      },
      "execution_count": 7,
      "outputs": []
    }
  ]
}